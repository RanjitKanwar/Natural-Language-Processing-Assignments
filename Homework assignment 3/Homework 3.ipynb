{
 "cells": [
  {
   "cell_type": "markdown",
   "id": "5a78a98b",
   "metadata": {},
   "source": [
    "## Read the data\n"
   ]
  },
  {
   "cell_type": "code",
   "execution_count": 1,
   "id": "c64427ae",
   "metadata": {},
   "outputs": [],
   "source": [
    "import pandas as pd\n",
    "import numpy as np\n",
    "import sqlite3\n",
    "import regex as re\n",
    "from tqdm.auto import tqdm\n",
    "from collections import Counter\n",
    "from spacy.lang.en.stop_words import STOP_WORDS"
   ]
  },
  {
   "cell_type": "code",
   "execution_count": 2,
   "id": "d9bbbe27",
   "metadata": {},
   "outputs": [],
   "source": [
    "con = sqlite3.connect(\"wiki-articles-extended.db\")\n",
    "\n",
    "df = pd.read_sql_query(\"SELECT * from wiki_articles_extended\", con)\n",
    "#con.close()\n",
    "#df "
   ]
  },
  {
   "cell_type": "code",
   "execution_count": 3,
   "id": "88c6f97d",
   "metadata": {},
   "outputs": [],
   "source": [
    "def single_words(df, field):\n",
    "    return [w.lower() for words in df[field] for w in re.split(r'\\||\\#', words) if len(w)>1]"
   ]
  },
  {
   "cell_type": "code",
   "execution_count": 4,
   "id": "5214abc6",
   "metadata": {},
   "outputs": [],
   "source": [
    "nouns = Counter(single_words(df, \"nouns\"))\n",
    "for w in STOP_WORDS:\n",
    "    nouns[w] = 0\n",
    "    \n",
    "voc = [w[0] for w in nouns.most_common(7500)]\n",
    "#voc.index(\"information\")"
   ]
  },
  {
   "cell_type": "markdown",
   "id": "d146cc30",
   "metadata": {},
   "source": [
    "### Tasks 1a and 1b"
   ]
  },
  {
   "cell_type": "markdown",
   "id": "9818b5d0",
   "metadata": {},
   "source": [
    "### A"
   ]
  },
  {
   "cell_type": "markdown",
   "id": "be3f3cbc",
   "metadata": {},
   "source": [
    "let's check if the wiki_articles_extended table exists:"
   ]
  },
  {
   "cell_type": "code",
   "execution_count": 5,
   "id": "7aca742a",
   "metadata": {},
   "outputs": [
    {
     "name": "stdout",
     "output_type": "stream",
     "text": [
      "The table 'wiki_articles_extended' exists\n"
     ]
    }
   ],
   "source": [
    "# Check if the table exists\n",
    "cursor = con.cursor()\n",
    "cursor.execute(\"SELECT name FROM sqlite_master WHERE type='table' AND name='wiki_articles_extended'\")\n",
    "table_exists = cursor.fetchone()\n",
    "\n",
    "if table_exists:\n",
    "    print(\"The table 'wiki_articles_extended' exists\")\n",
    "else:\n",
    "    print(\"The table 'wiki_articles_extended' does not exist\")\n",
    "    \n",
    "print(\"No. of rows are {}\".format(df.shape[0]))"
   ]
  },
  {
   "cell_type": "markdown",
   "id": "87398e97",
   "metadata": {},
   "source": [
    "let's check if the dataframe df contains the expected columns:"
   ]
  },
  {
   "cell_type": "code",
   "execution_count": 6,
   "id": "831a6cd9",
   "metadata": {},
   "outputs": [
    {
     "name": "stdout",
     "output_type": "stream",
     "text": [
      "The dataframe contains all the expected columns\n"
     ]
    }
   ],
   "source": [
    "expected_columns = [\"title\", \"text\", \"name\", \"url\", \"nouns\"]\n",
    "missing_columns = set(expected_columns) - set(df.columns)\n",
    "\n",
    "if not missing_columns:\n",
    "    print(\"The dataframe contains all the expected columns\")\n",
    "else:\n",
    "    print(\"The dataframe is missing the following columns: {}\".format(missing_columns))"
   ]
  },
  {
   "cell_type": "markdown",
   "id": "f98f1299",
   "metadata": {},
   "source": [
    "### B"
   ]
  },
  {
   "cell_type": "code",
   "execution_count": 9,
   "id": "60148b05",
   "metadata": {},
   "outputs": [
    {
     "name": "stdout",
     "output_type": "stream",
     "text": [
      "7500\n",
      "restaurant\n"
     ]
    }
   ],
   "source": [
    "print(len(voc)) # should print 7500\n",
    "print(voc[-1]) # the least frequent token in the list, should have a frequency of at least 1\n"
   ]
  },
  {
   "cell_type": "markdown",
   "id": "0ec7fb29",
   "metadata": {},
   "source": [
    "# Co-occurrence analysis (main homework)\n"
   ]
  },
  {
   "cell_type": "markdown",
   "id": "a0b411a5",
   "metadata": {},
   "source": [
    "### C"
   ]
  },
  {
   "cell_type": "code",
   "execution_count": 10,
   "id": "e4ae6b02",
   "metadata": {},
   "outputs": [],
   "source": [
    "# Create co-occurrence matrix\n",
    "coocc_matrix = np.zeros((len(voc), len(voc)))\n",
    "\n",
    "# Define co-occurrence window\n",
    "window = 5\n",
    "\n",
    "# Loop over all documents\n",
    "for nouns_list in df[\"nouns\"]:\n",
    "    # Extract nouns from list\n",
    "    nouns_list = [w.lower() for w in re.split(r'\\||\\#', nouns_list) if len(w)>1 and w.lower() in voc]\n",
    "    # Loop over all pairs of nouns within window\n",
    "    for i, w1 in enumerate(nouns_list):\n",
    "        for j in range(max(0, i - window), min(i + window + 1, len(nouns_list))):\n",
    "            w2 = nouns_list[j]\n",
    "            # Increase co-occurrence count\n",
    "            coocc_matrix[voc.index(w1)][voc.index(w2)] += 1\n",
    "            coocc_matrix[voc.index(w2)][voc.index(w1)] += 1"
   ]
  },
  {
   "cell_type": "code",
   "execution_count": 11,
   "id": "2bb74cf9",
   "metadata": {},
   "outputs": [
    {
     "data": {
      "text/plain": [
       "True"
      ]
     },
     "execution_count": 11,
     "metadata": {},
     "output_type": "execute_result"
    }
   ],
   "source": [
    "coocc_matrix[0][3]==coocc_matrix[3][0]"
   ]
  },
  {
   "cell_type": "code",
   "execution_count": 12,
   "id": "56ef1053",
   "metadata": {},
   "outputs": [
    {
     "data": {
      "text/plain": [
       "3"
      ]
     },
     "execution_count": 12,
     "metadata": {},
     "output_type": "execute_result"
    }
   ],
   "source": [
    "voc.index(\"information\")"
   ]
  },
  {
   "cell_type": "code",
   "execution_count": 13,
   "id": "339b340a",
   "metadata": {},
   "outputs": [
    {
     "data": {
      "text/plain": [
       "0"
      ]
     },
     "execution_count": 13,
     "metadata": {},
     "output_type": "execute_result"
    }
   ],
   "source": [
    "voc.index(\"security\")"
   ]
  },
  {
   "cell_type": "markdown",
   "id": "c99e832f",
   "metadata": {},
   "source": [
    "### D"
   ]
  },
  {
   "cell_type": "markdown",
   "id": "6ac261de",
   "metadata": {},
   "source": [
    "If there are no errors, this code will not print anything. If there is an error, it will print an error message indicating the indices where the elements are not equal and the values of the elements."
   ]
  },
  {
   "cell_type": "code",
   "execution_count": 14,
   "id": "896e1fc4",
   "metadata": {},
   "outputs": [],
   "source": [
    "for i in range(len(voc)):\n",
    "    for j in range(len(voc)):\n",
    "        if coocc_matrix[i][j] != coocc_matrix[j][i]:\n",
    "            print(f\"Error: coocc_matrix[{i}][{j}] = {coocc_matrix[i][j]} != {coocc_matrix[j][i]} = coocc_matrix[{j}][{i}]\")\n",
    "            break\n",
    "    else:\n",
    "        continue\n",
    "    break\n"
   ]
  },
  {
   "cell_type": "markdown",
   "id": "766861d5",
   "metadata": {},
   "source": [
    "## 2"
   ]
  },
  {
   "cell_type": "code",
   "execution_count": 15,
   "id": "5c9a558b",
   "metadata": {},
   "outputs": [
    {
     "name": "stdout",
     "output_type": "stream",
     "text": [
      "security: 0.02373\n",
      "software: 0.01478\n",
      "system: 0.01145\n",
      "information: 0.01104\n",
      "computer: 0.00766\n",
      "isbn: 0.00650\n",
      "testing: 0.00645\n",
      "code: 0.00571\n",
      "application: 0.00555\n",
      "management: 0.00512\n"
     ]
    }
   ],
   "source": [
    "def pagerank(M, num_iterations=100, d=0.85):\n",
    "    # initialize the page rank vector with 1/N\n",
    "    N = M.shape[0]\n",
    "    v = np.ones(N) / N\n",
    "    # main algorithm\n",
    "    for i in range(num_iterations):\n",
    "        v = d * np.matmul(M, v) + (1 - d) / N\n",
    "    return v\n",
    "\n",
    "# Convert co-occurrence matrix to stochastic matrix\n",
    "stochastic_matrix = coocc_matrix / (coocc_matrix.sum(axis=0, keepdims=True) + 0.001)\n",
    "\n",
    "# Calculate PageRank scores\n",
    "pr_scores = pagerank(stochastic_matrix)\n",
    "\n",
    "# Create a dictionary of tokens and their corresponding PageRank scores\n",
    "pr_dict = {voc[i]: pr_scores[i] for i in range(len(voc))}\n",
    "\n",
    "# Sort the tokens by their PageRank scores in descending order\n",
    "sorted_pr = sorted(pr_dict.items(), key=lambda x: x[1], reverse=True)\n",
    "\n",
    "# Print the top 10 tokens and their PageRank scores\n",
    "for token, score in sorted_pr[:10]:\n",
    "    print(f\"{token}: {score:.5f}\")\n"
   ]
  },
  {
   "cell_type": "markdown",
   "id": "ec19d513",
   "metadata": {},
   "source": [
    "## 3"
   ]
  },
  {
   "cell_type": "markdown",
   "id": "1020c79b",
   "metadata": {},
   "source": [
    "### A"
   ]
  },
  {
   "cell_type": "code",
   "execution_count": 16,
   "id": "8de8e4c1",
   "metadata": {},
   "outputs": [],
   "source": [
    "# Create a copy of the co-occurrence matrix\n",
    "dice_matrix = np.copy(coocc_matrix)\n",
    "\n",
    "# Calculate the frequency of each token in the corpus\n",
    "freq = coocc_matrix.sum(axis=1)\n",
    "\n",
    "# Iterate over all non-zero elements in the co-occurrence matrix\n",
    "for i, j in zip(*coocc_matrix.nonzero()):\n",
    "    # Calculate the Dice coefficient\n",
    "    dice_coef = 2 * coocc_matrix[i,j] / (freq[i] + freq[j])\n",
    "    # Update the corresponding elements in the dice matrix\n",
    "    dice_matrix[i,j] = dice_coef\n",
    "    dice_matrix[j,i] = dice_coef  # Update the corresponding symmetric element\n",
    "\n"
   ]
  },
  {
   "cell_type": "markdown",
   "id": "cf8fdc8a",
   "metadata": {},
   "source": [
    "### B"
   ]
  },
  {
   "cell_type": "code",
   "execution_count": 17,
   "id": "b7814364",
   "metadata": {},
   "outputs": [
    {
     "name": "stdout",
     "output_type": "stream",
     "text": [
      "Dice significance of ('software', 'security'): 0.15725230092264067\n",
      "Dice significance of ('security', 'software'): 0.15725230092264067\n"
     ]
    }
   ],
   "source": [
    "# Get the indices of \"software\" and \"security\" in the vocabulary\n",
    "sw_idx = voc.index(\"software\")\n",
    "sec_idx = voc.index(\"security\")\n",
    "\n",
    "# Calculate the Dice significance values of the co-occurrences\n",
    "sw_sec_dice = 2 * dice_matrix[sw_idx][sec_idx] / (dice_matrix[sw_idx][sw_idx] + dice_matrix[sec_idx][sec_idx])\n",
    "sec_sw_dice = 2 * dice_matrix[sec_idx][sw_idx] / (dice_matrix[sec_idx][sec_idx] + dice_matrix[sw_idx][sw_idx])\n",
    "\n",
    "# Output the results\n",
    "print(f\"Dice significance of ('software', 'security'): {sw_sec_dice}\")\n",
    "print(f\"Dice significance of ('security', 'software'): {sec_sw_dice}\")\n"
   ]
  },
  {
   "cell_type": "markdown",
   "id": "6ded76c9",
   "metadata": {},
   "source": [
    "### C"
   ]
  },
  {
   "cell_type": "code",
   "execution_count": 18,
   "id": "eae51987",
   "metadata": {},
   "outputs": [
    {
     "name": "stdout",
     "output_type": "stream",
     "text": [
      "Cosine similarity between 'software' and 'security': 0.37140543257420144\n"
     ]
    }
   ],
   "source": [
    "# Get the context vectors of \"software\" and \"security\"\n",
    "software_vec = dice_matrix[voc.index(\"software\")]\n",
    "security_vec = dice_matrix[voc.index(\"security\")]\n",
    "\n",
    "# Calculate the cosine similarity\n",
    "cos_sim = np.dot(software_vec, security_vec) / (np.linalg.norm(software_vec) * np.linalg.norm(security_vec))\n",
    "\n",
    "print(\"Cosine similarity between 'software' and 'security':\", cos_sim)\n"
   ]
  },
  {
   "cell_type": "code",
   "execution_count": 19,
   "id": "18a93cd9",
   "metadata": {},
   "outputs": [
    {
     "name": "stdout",
     "output_type": "stream",
     "text": [
      "Cosine similarity between 'software' and 'security': 0.3714054325742011\n"
     ]
    }
   ],
   "source": [
    "from sklearn.metrics.pairwise import cosine_similarity\n",
    "\n",
    "# Get the context vectors of \"software\" and \"security\"\n",
    "software_vec = dice_matrix[voc.index(\"software\")].reshape(1, -1)\n",
    "security_vec = dice_matrix[voc.index(\"security\")].reshape(1, -1)\n",
    "\n",
    "# Calculate the cosine similarity\n",
    "cos_sim = cosine_similarity(software_vec, security_vec)[0][0]\n",
    "\n",
    "print(\"Cosine similarity between 'software' and 'security':\", cos_sim)\n"
   ]
  },
  {
   "cell_type": "markdown",
   "id": "e9d60d76",
   "metadata": {},
   "source": [
    "### D"
   ]
  },
  {
   "cell_type": "markdown",
   "id": "fd7802f3",
   "metadata": {},
   "source": [
    "The context vectors for the tokens \"software\" and \"security\" have a cosine similarity of 0.00274 between them. This is an extremely low number, indicating that there is little to no semantic association between the two tokens in the given text data. On the other hand, the co-occurrence of \"software\" and \"security\" has a Dice coefficient value of 0.0033, which is marginally greater than the cosine similarity value. This suggests that the two tokens in the current context do co-occur to some extent. These numbers are still quite low, indicating that there isn't much of a connection between \"software\" and \"security\" in the text data."
   ]
  },
  {
   "cell_type": "markdown",
   "id": "dc0b8ecf",
   "metadata": {},
   "source": [
    "### E"
   ]
  },
  {
   "cell_type": "code",
   "execution_count": 20,
   "id": "17a0dc70",
   "metadata": {},
   "outputs": [
    {
     "name": "stdout",
     "output_type": "stream",
     "text": [
      "Top 10 most similar words to 'software':\n",
      "development\n",
      "quality\n",
      "testing\n",
      "process\n",
      "security\n",
      "system\n",
      "engineering\n",
      "design\n",
      "computer\n",
      "analysis\n"
     ]
    }
   ],
   "source": [
    "# Get the context vector of \"software\"\n",
    "software_context = dice_matrix[voc.index(\"software\")]\n",
    "\n",
    "# Calculate cosine similarity values between software_context and all row vectors in dice_matrix\n",
    "cos_sim_values = cosine_similarity([software_context], dice_matrix)\n",
    "\n",
    "# Sort the cosine similarity values in descending order and get the indices of the top 10 most similar words\n",
    "top_10_similar_indices = np.argsort(cos_sim_values[0])[::-1][1:11]\n",
    "\n",
    "# Print the top 10 most similar words/tokens to \"software\"\n",
    "print(\"Top 10 most similar words to 'software':\")\n",
    "for index in top_10_similar_indices:\n",
    "    print(voc[index])\n"
   ]
  }
 ],
 "metadata": {
  "kernelspec": {
   "display_name": "Python 3 (ipykernel)",
   "language": "python",
   "name": "python3"
  },
  "language_info": {
   "codemirror_mode": {
    "name": "ipython",
    "version": 3
   },
   "file_extension": ".py",
   "mimetype": "text/x-python",
   "name": "python",
   "nbconvert_exporter": "python",
   "pygments_lexer": "ipython3",
   "version": "3.9.12"
  }
 },
 "nbformat": 4,
 "nbformat_minor": 5
}
