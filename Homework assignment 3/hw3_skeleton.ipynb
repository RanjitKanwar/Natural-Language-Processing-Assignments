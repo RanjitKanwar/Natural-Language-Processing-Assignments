{
 "cells": [
  {
   "cell_type": "markdown",
   "id": "5a78a98b",
   "metadata": {},
   "source": [
    "## Read the data\n"
   ]
  },
  {
   "cell_type": "code",
   "execution_count": null,
   "id": "c64427ae",
   "metadata": {},
   "outputs": [],
   "source": [
    "import pandas as pd\n",
    "import numpy as np\n",
    "import sqlite3\n",
    "import regex as re\n",
    "from tqdm.auto import tqdm\n",
    "from collections import Counter\n",
    "from spacy.lang.en.stop_words import STOP_WORDS"
   ]
  },
  {
   "cell_type": "code",
   "execution_count": null,
   "id": "d9bbbe27",
   "metadata": {},
   "outputs": [],
   "source": [
    "con = sqlite3.connect(\"wiki-articles-extended.db\")\n",
    "\n",
    "df = pd.read_sql_query(\"SELECT * from wiki_articles_extended\", con)\n",
    "#con.close()\n",
    "#df "
   ]
  },
  {
   "cell_type": "code",
   "execution_count": null,
   "id": "88c6f97d",
   "metadata": {},
   "outputs": [],
   "source": [
    "def single_words(df, field):\n",
    "    return [w.lower() for words in df[field] for w in re.split(r'\\||\\#', words) if len(w)>1]"
   ]
  },
  {
   "cell_type": "code",
   "execution_count": null,
   "id": "5214abc6",
   "metadata": {},
   "outputs": [],
   "source": [
    "nouns = Counter(single_words(df, \"nouns\"))\n",
    "for w in STOP_WORDS:\n",
    "    nouns[w] = 0\n",
    "    \n",
    "voc = [w[0] for w in nouns.most_common(7500)]\n",
    "#voc.index(\"information\")"
   ]
  },
  {
   "cell_type": "markdown",
   "id": "d146cc30",
   "metadata": {},
   "source": [
    "### Tasks 1a and 1b"
   ]
  },
  {
   "cell_type": "code",
   "execution_count": null,
   "id": "7aca742a",
   "metadata": {},
   "outputs": [],
   "source": []
  },
  {
   "cell_type": "markdown",
   "id": "c99e832f",
   "metadata": {},
   "source": [
    "# Co-occurrence analysis (main homework)\n"
   ]
  },
  {
   "cell_type": "code",
   "execution_count": null,
   "id": "896e1fc4",
   "metadata": {},
   "outputs": [],
   "source": []
  }
 ],
 "metadata": {
  "kernelspec": {
   "display_name": "Python 3 (ipykernel)",
   "language": "python",
   "name": "python3"
  },
  "language_info": {
   "codemirror_mode": {
    "name": "ipython",
    "version": 3
   },
   "file_extension": ".py",
   "mimetype": "text/x-python",
   "name": "python",
   "nbconvert_exporter": "python",
   "pygments_lexer": "ipython3",
   "version": "3.9.13"
  }
 },
 "nbformat": 4,
 "nbformat_minor": 5
}
